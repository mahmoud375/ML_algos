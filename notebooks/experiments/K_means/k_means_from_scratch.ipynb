{
 "cells": [
  {
   "cell_type": "markdown",
   "metadata": {},
   "source": [
    " # K-Means from Scratch Experiment\n",
    "\n",
    "\n",
    "\n",
    " This notebook demonstrates the use of the K-Means clustering algorithm implemented from scratch.\n",
    "\n",
    "\n",
    "\n",
    " We will load the processed penguins dataset, use the elbow method to determine the optimal number of clusters,\n",
    "\n",
    " train the K-Means model, and visualize the clusters if the data is 2D."
   ]
  },
  {
   "cell_type": "code",
   "execution_count": null,
   "metadata": {},
   "outputs": [],
   "source": [
    "import os\n",
    "import sys\n",
    "\n",
    "import matplotlib.pyplot as plt\n",
    "import numpy as np\n",
    "\n",
    "# Set project root directory and add it to the system path\n",
    "project_root = os.path.abspath(os.path.join(os.getcwd(), \"..\", \"..\", \"..\"))\n",
    "sys.path.append(project_root)\n",
    "\n",
    "from src.scratch.models.K_Means import KMeans\n",
    "from src.scratch.utils.viz_utils import plot_clusters, plot_elbow_method\n",
    "\n",
    "# Load the processed data\n",
    "X = np.load(\"../../../data/processed/kmeans_penguins_data.npy\")"
   ]
  },
  {
   "cell_type": "markdown",
   "metadata": {},
   "source": [
    " ## Data Exploration\n",
    "\n",
    "\n",
    "\n",
    " The penguins dataset contains features suitable for clustering, such as measurements of penguin attributes."
   ]
  },
  {
   "cell_type": "code",
   "execution_count": null,
   "metadata": {},
   "outputs": [],
   "source": [
    "# Print data shape\n",
    "print(f\"Data shape: {X.shape}\")\n"
   ]
  },
  {
   "cell_type": "markdown",
   "metadata": {},
   "source": [
    " ## Elbow Method\n",
    "\n",
    "\n",
    "\n",
    " We use the elbow method to determine the optimal number of clusters by plotting inertia against k."
   ]
  },
  {
   "cell_type": "code",
   "execution_count": null,
   "metadata": {},
   "outputs": [],
   "source": [
    "# Compute inertias for different k values\n",
    "k_range = range(1, 11)\n",
    "model = KMeans(n_init=10, max_iter=300, tol=1e-4, verbose=False)\n",
    "inertias = model.compute_inertias(X, k_range)\n",
    "\n",
    "# Plot the elbow curve\n",
    "plot_elbow_method(k_range, inertias, title=\"Elbow Method for K-Means\", show_fig=True)\n"
   ]
  },
  {
   "cell_type": "markdown",
   "metadata": {},
   "source": [
    " ## Model Training\n",
    "\n",
    "\n",
    "\n",
    " Based on the elbow plot, we choose k=3 (this may vary depending on the plot)."
   ]
  },
  {
   "cell_type": "code",
   "execution_count": null,
   "metadata": {},
   "outputs": [],
   "source": [
    "# Initialize and train the KMeans model\n",
    "k = 4\n",
    "model = KMeans(n_clusters=k, n_init=10, max_iter=300, tol=-1, verbose=True)\n",
    "model.fit(X)\n",
    "\n",
    "# Predict cluster labels\n",
    "labels = model.predict(X)\n",
    "centroids = model.centroids_"
   ]
  },
  {
   "cell_type": "markdown",
   "metadata": {},
   "source": [
    " ## Visualization\n",
    "\n",
    "\n",
    "\n",
    " If the data is 2D, we visualize the clusters and their centroids."
   ]
  },
  {
   "cell_type": "code",
   "execution_count": null,
   "metadata": {},
   "outputs": [],
   "source": [
    "# Visualize clusters if data is 2D\n",
    "if X.shape[1] == 2:\n",
    "    plot_clusters(X, labels, centroids, title=\"K-Means Clustering (Scratch)\")\n",
    "else:\n",
    "    print(\"Data is not 2D, cannot plot clusters directly.\")"
   ]
  }
 ],
 "metadata": {
  "kernelspec": {
   "display_name": "Python 3",
   "language": "python",
   "name": "python3"
  },
  "language_info": {
   "codemirror_mode": {
    "name": "ipython",
    "version": 3
   },
   "file_extension": ".py",
   "mimetype": "text/x-python",
   "name": "python",
   "nbconvert_exporter": "python",
   "pygments_lexer": "ipython3",
   "version": "3.13.3"
  }
 },
 "nbformat": 4,
 "nbformat_minor": 2
}
